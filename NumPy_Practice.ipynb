{
 "cells": [
  {
   "cell_type": "markdown",
   "id": "513e0b06-a599-4b46-b23d-333c690d8625",
   "metadata": {},
   "source": [
    "# Numpy Crash Course"
   ]
  },
  {
   "cell_type": "code",
   "execution_count": 1,
   "id": "4f92c24a-489c-4dd2-8aa1-f184480b58da",
   "metadata": {},
   "outputs": [],
   "source": [
    "import numpy as np"
   ]
  },
  {
   "cell_type": "code",
   "execution_count": 2,
   "id": "501b1cb6-4760-49ec-8c7c-c01bd0ea11d1",
   "metadata": {},
   "outputs": [
    {
     "data": {
      "text/plain": [
       "'1.26.4'"
      ]
     },
     "execution_count": 2,
     "metadata": {},
     "output_type": "execute_result"
    }
   ],
   "source": [
    "np.__version__"
   ]
  },
  {
   "cell_type": "code",
   "execution_count": 3,
   "id": "23b1106d-070b-45f2-bd49-fe63bb806a7b",
   "metadata": {},
   "outputs": [
    {
     "data": {
      "text/plain": [
       "'3.12.7 | packaged by Anaconda, Inc. | (main, Oct  4 2024, 13:17:27) [MSC v.1929 64 bit (AMD64)]'"
      ]
     },
     "execution_count": 3,
     "metadata": {},
     "output_type": "execute_result"
    }
   ],
   "source": [
    "import sys \n",
    "sys.version"
   ]
  },
  {
   "cell_type": "markdown",
   "id": "9034bd0e-1cf3-4c94-8f82-563f91592d1c",
   "metadata": {},
   "source": [
    "## Creating Arrays"
   ]
  },
  {
   "cell_type": "code",
   "execution_count": 4,
   "id": "955b6253-5f6a-4e41-ad7b-faccba760b0e",
   "metadata": {},
   "outputs": [
    {
     "data": {
      "text/plain": [
       "[0, 1, 2, 3, 4, 5]"
      ]
     },
     "execution_count": 4,
     "metadata": {},
     "output_type": "execute_result"
    }
   ],
   "source": [
    "my_list = [0,1,2,3,4,5]\n",
    "my_list"
   ]
  },
  {
   "cell_type": "code",
   "execution_count": 5,
   "id": "b0711dd7-da7c-41a2-aa9a-42b7e72ef881",
   "metadata": {},
   "outputs": [
    {
     "data": {
      "text/plain": [
       "list"
      ]
     },
     "execution_count": 5,
     "metadata": {},
     "output_type": "execute_result"
    }
   ],
   "source": [
    "type(my_list)"
   ]
  },
  {
   "cell_type": "code",
   "execution_count": 7,
   "id": "6cee4208-1d70-4aca-9ac2-146ee2164d44",
   "metadata": {},
   "outputs": [
    {
     "data": {
      "text/plain": [
       "[0, 1, 2, 3, 4, 5]"
      ]
     },
     "execution_count": 7,
     "metadata": {},
     "output_type": "execute_result"
    }
   ],
   "source": [
    "my_list"
   ]
  },
  {
   "cell_type": "code",
   "execution_count": 8,
   "id": "614e0359-4a56-42ea-a513-d05d28b24c18",
   "metadata": {},
   "outputs": [
    {
     "data": {
      "text/plain": [
       "array([0, 1, 2, 3, 4, 5])"
      ]
     },
     "execution_count": 8,
     "metadata": {},
     "output_type": "execute_result"
    }
   ],
   "source": [
    "arr = np.array(my_list) \n",
    "arr"
   ]
  },
  {
   "cell_type": "code",
   "execution_count": 14,
   "id": "70a86452-bb40-4f15-8a67-3819fac83855",
   "metadata": {},
   "outputs": [],
   "source": [
    "import numpy as np "
   ]
  },
  {
   "cell_type": "code",
   "execution_count": 15,
   "id": "648fabf7-762d-413e-b323-5612cd40aa22",
   "metadata": {},
   "outputs": [],
   "source": [
    "array1= np.array([1, 2, 3, 4, 5])\n",
    "array2 = np.array([6, 7, 8, 9, 10]) "
   ]
  },
  {
   "cell_type": "code",
   "execution_count": 17,
   "id": "a5561fa1-b6d9-4574-8a1d-3c9876293120",
   "metadata": {},
   "outputs": [],
   "source": [
    "result_addition= array1 + array2 "
   ]
  },
  {
   "cell_type": "code",
   "execution_count": 18,
   "id": "f36e3f68-a3d1-46cc-ae75-1ca657cf4e46",
   "metadata": {},
   "outputs": [
    {
     "data": {
      "text/plain": [
       "array([ 7,  9, 11, 13, 15])"
      ]
     },
     "execution_count": 18,
     "metadata": {},
     "output_type": "execute_result"
    }
   ],
   "source": [
    "result_addition"
   ]
  },
  {
   "cell_type": "code",
   "execution_count": 20,
   "id": "9ec72edf-2b87-462a-af55-fcac635ce50f",
   "metadata": {},
   "outputs": [
    {
     "data": {
      "text/plain": [
       "array([-5, -5, -5, -5, -5])"
      ]
     },
     "execution_count": 20,
     "metadata": {},
     "output_type": "execute_result"
    }
   ],
   "source": [
    "result_substraction = array1 - array2 \n",
    "result_substraction"
   ]
  },
  {
   "cell_type": "code",
   "execution_count": 21,
   "id": "40d880aa-4cc9-48b7-99da-6f13369ed3f9",
   "metadata": {},
   "outputs": [
    {
     "data": {
      "text/plain": [
       "array([ 6, 14, 24, 36, 50])"
      ]
     },
     "execution_count": 21,
     "metadata": {},
     "output_type": "execute_result"
    }
   ],
   "source": [
    "result_mul = array1 * array2\n",
    "result_mul"
   ]
  },
  {
   "cell_type": "code",
   "execution_count": 22,
   "id": "b07bec4c-a70a-499c-b40c-583c3b4162d7",
   "metadata": {},
   "outputs": [
    {
     "data": {
      "text/plain": [
       "array([0.16666667, 0.28571429, 0.375     , 0.44444444, 0.5       ])"
      ]
     },
     "execution_count": 22,
     "metadata": {},
     "output_type": "execute_result"
    }
   ],
   "source": [
    "result_divide = array1 / array2\n",
    "result_divide"
   ]
  },
  {
   "cell_type": "code",
   "execution_count": 24,
   "id": "7225b086-ebe1-4e52-b568-0e31be2030b1",
   "metadata": {},
   "outputs": [
    {
     "name": "stdout",
     "output_type": "stream",
     "text": [
      "[1 2 3 4 5]\n"
     ]
    }
   ],
   "source": [
    "import numpy as np\n",
    "#create an array from python list\n",
    "my_list=[1,2,3,4,5]\n",
    "arr_from_list=np.array(my_list)\n",
    "print(arr_from_list)"
   ]
  },
  {
   "cell_type": "code",
   "execution_count": 25,
   "id": "0bef0c20-5dd2-4073-8585-7235522402c9",
   "metadata": {},
   "outputs": [
    {
     "name": "stdout",
     "output_type": "stream",
     "text": [
      "[ 6  7  8  9 10]\n"
     ]
    }
   ],
   "source": [
    "#Create an array from a python tuple\n",
    "my_tuple =(6,7,8,9,10)\n",
    "arr_from_tuple = np.array(my_tuple)\n",
    "print(arr_from_tuple)"
   ]
  },
  {
   "cell_type": "code",
   "execution_count": 26,
   "id": "b3d8c16c-efe3-45b0-a523-09d91875728f",
   "metadata": {},
   "outputs": [
    {
     "name": "stdout",
     "output_type": "stream",
     "text": [
      "[[0. 0. 0.]\n",
      " [0. 0. 0.]\n",
      " [0. 0. 0.]]\n"
     ]
    }
   ],
   "source": [
    "#Generate an array filled with zeros of shape(3,3)\n",
    "zeros_array=np.zeros((3,3))\n",
    "print(zeros_array)"
   ]
  },
  {
   "cell_type": "code",
   "execution_count": 27,
   "id": "ac9a9eca-653e-450f-b52e-e7d2b0d36688",
   "metadata": {},
   "outputs": [
    {
     "name": "stdout",
     "output_type": "stream",
     "text": [
      "[[1. 1. 1. 1.]\n",
      " [1. 1. 1. 1.]]\n"
     ]
    }
   ],
   "source": [
    "#Generate an arry fillled with ones of shape(2,4)\n",
    "ones_array=np.ones((2,4))\n",
    "print(ones_array)"
   ]
  },
  {
   "cell_type": "code",
   "execution_count": 31,
   "id": "399853b9-2c24-4f92-9ffb-8e9f445e02c3",
   "metadata": {},
   "outputs": [
    {
     "name": "stdout",
     "output_type": "stream",
     "text": [
      "[[6.23042070e-307 4.67296746e-307 1.69121096e-306]\n",
      " [1.60219849e-306 1.89146896e-307 7.56571288e-307]]\n"
     ]
    }
   ],
   "source": [
    "#Create an empty array of shape(2,3)\n",
    "empty_array=np.empty((2,3))\n",
    "print(empty_array)"
   ]
  },
  {
   "cell_type": "code",
   "execution_count": 32,
   "id": "a7655987-8aea-4af8-af83-fdfe4078ce76",
   "metadata": {},
   "outputs": [
    {
     "name": "stdout",
     "output_type": "stream",
     "text": [
      "[0 2 4 6 8]\n"
     ]
    }
   ],
   "source": [
    "#Generate an array from 0 to 9(exclusive) with step size 2\n",
    "arange_array =np.arange(0,10,2)\n",
    "print(arange_array)"
   ]
  },
  {
   "cell_type": "code",
   "execution_count": 33,
   "id": "912ce8b4-8e5e-4e09-b210-570ed41f425f",
   "metadata": {},
   "outputs": [
    {
     "name": "stdout",
     "output_type": "stream",
     "text": [
      "[ 0.   2.5  5.   7.5 10. ]\n"
     ]
    }
   ],
   "source": [
    "linspace_array=np.linspace(0,10,5)\n",
    "print(linspace_array)"
   ]
  },
  {
   "cell_type": "code",
   "execution_count": 34,
   "id": "0f639f20-959d-4132-948d-5b825f2680b7",
   "metadata": {},
   "outputs": [
    {
     "name": "stdout",
     "output_type": "stream",
     "text": [
      "[[1 2 3]\n",
      " [4 5 6]]\n"
     ]
    }
   ],
   "source": [
    "# np.reshape(), np.transpose()\n",
    "\n",
    "arr = np.array([1,2,3,4,5,6])\n",
    "reshaped_array=np.reshape(arr,(2,3))\n",
    "print(reshaped_array)"
   ]
  },
  {
   "cell_type": "code",
   "execution_count": 35,
   "id": "e102eedd-384c-4a6f-8618-e19716e0b9b3",
   "metadata": {},
   "outputs": [
    {
     "name": "stdout",
     "output_type": "stream",
     "text": [
      "[[1 4]\n",
      " [2 5]\n",
      " [3 6]]\n"
     ]
    }
   ],
   "source": [
    "transposed_array =np.transpose(reshaped_array)\n",
    "print(transposed_array)"
   ]
  },
  {
   "cell_type": "code",
   "execution_count": 39,
   "id": "2d80c95a-c185-4e97-918f-928098623944",
   "metadata": {},
   "outputs": [
    {
     "name": "stdout",
     "output_type": "stream",
     "text": [
      "[[1 2 2]\n",
      " [3 4 4]\n",
      " [5 6 5]]\n"
     ]
    }
   ],
   "source": [
    "#Concat & Split\n",
    "arr1 =np.array([[1,2,2],[3,4,4]])\n",
    "arr2=np.array([[5,6,5]])\n",
    "concatenated_array=np.concatenate((arr1,arr2),axis=0)\n",
    "print(concatenated_array)"
   ]
  },
  {
   "cell_type": "code",
   "execution_count": 40,
   "id": "e287c057-0b82-4053-97a8-1891df9d7f97",
   "metadata": {},
   "outputs": [
    {
     "name": "stdout",
     "output_type": "stream",
     "text": [
      "[array([[1, 2, 2],\n",
      "       [3, 4, 4]]), array([[5, 6, 5]])]\n"
     ]
    }
   ],
   "source": [
    "split_arrays=np.split(concatenated_array,[2])\n",
    "print(split_arrays)"
   ]
  },
  {
   "cell_type": "code",
   "execution_count": 41,
   "id": "3c1f38da-f625-42f8-8668-c62afadaebb0",
   "metadata": {},
   "outputs": [
    {
     "name": "stdout",
     "output_type": "stream",
     "text": [
      "Sum of elements: 21\n"
     ]
    }
   ],
   "source": [
    "arr =np.array([[1,2,3],[4,5,6]])\n",
    "sum_of_elements =np.sum(arr)\n",
    "print(\"Sum of elements:\",sum_of_elements)"
   ]
  },
  {
   "cell_type": "code",
   "execution_count": 42,
   "id": "6a44aa23-c62a-40ba-9ba1-371778c62268",
   "metadata": {},
   "outputs": [
    {
     "data": {
      "text/plain": [
       "3.5"
      ]
     },
     "execution_count": 42,
     "metadata": {},
     "output_type": "execute_result"
    }
   ],
   "source": [
    "mean_of_elements = np.mean(arr)\n",
    "mean_of_elements"
   ]
  },
  {
   "cell_type": "code",
   "execution_count": 43,
   "id": "7e0b4b01-0758-4740-af01-471b494fa7d8",
   "metadata": {},
   "outputs": [
    {
     "data": {
      "text/plain": [
       "32"
      ]
     },
     "execution_count": 43,
     "metadata": {},
     "output_type": "execute_result"
    }
   ],
   "source": [
    "arr1 = np.array([1,2,3])\n",
    "arr2 = np.array([4,5,6])\n",
    "dot_product =np.dot(arr1,arr2)\n",
    "dot_product"
   ]
  },
  {
   "cell_type": "code",
   "execution_count": 44,
   "id": "5f68d66d-fa4a-40a7-bdb8-68fcc56789c7",
   "metadata": {},
   "outputs": [
    {
     "data": {
      "text/plain": [
       "array([-3,  6, -3])"
      ]
     },
     "execution_count": 44,
     "metadata": {},
     "output_type": "execute_result"
    }
   ],
   "source": [
    "#Cross product\n",
    "cross_product =np.cross(arr1,arr2)\n",
    "cross_product"
   ]
  },
  {
   "cell_type": "code",
   "execution_count": 53,
   "id": "a7aa179f-5a7c-4ecf-a962-1aa6aac30ef0",
   "metadata": {},
   "outputs": [
    {
     "data": {
      "text/plain": [
       "array([1, 2, 3])"
      ]
     },
     "execution_count": 53,
     "metadata": {},
     "output_type": "execute_result"
    }
   ],
   "source": [
    "# Compute the element-wise absolute value\n",
    "arr=np.array([1,-2,3])\n",
    "abs_values = np.abs(arr)\n",
    "abs_values"
   ]
  },
  {
   "cell_type": "code",
   "execution_count": 54,
   "id": "be57f534-3c70-4c58-8f0a-0b39a7000c59",
   "metadata": {},
   "outputs": [
    {
     "data": {
      "text/plain": [
       "array([ 2.71828183,  0.13533528, 20.08553692])"
      ]
     },
     "execution_count": 54,
     "metadata": {},
     "output_type": "execute_result"
    }
   ],
   "source": [
    "exp_values=np.exp(arr)\n",
    "exp_values"
   ]
  },
  {
   "cell_type": "code",
   "execution_count": 55,
   "id": "4a748437-efb4-4957-9b2a-4f1f094fa4d7",
   "metadata": {},
   "outputs": [
    {
     "data": {
      "text/plain": [
       "array([ 1, -2,  3])"
      ]
     },
     "execution_count": 55,
     "metadata": {},
     "output_type": "execute_result"
    }
   ],
   "source": [
    "arr"
   ]
  },
  {
   "cell_type": "code",
   "execution_count": 58,
   "id": "91597cdc-39cb-42fd-abd0-c8caf8b3e0c4",
   "metadata": {},
   "outputs": [
    {
     "name": "stdout",
     "output_type": "stream",
     "text": [
      "1.6094379124341003\n"
     ]
    }
   ],
   "source": [
    "log_values=np.log(5)\n",
    "print(log_values)"
   ]
  },
  {
   "cell_type": "code",
   "execution_count": 59,
   "id": "49561cd7-f427-4b1a-bc92-3ccce2c699c2",
   "metadata": {},
   "outputs": [
    {
     "name": "stdout",
     "output_type": "stream",
     "text": [
      "[0.         0.70710678 1.        ]\n",
      "[1.00000000e+00 7.07106781e-01 6.12323400e-17]\n",
      "[0.00000000e+00 1.00000000e+00 1.63312394e+16]\n"
     ]
    }
   ],
   "source": [
    "angles = np.array([0,np.pi/4,np.pi/2])\n",
    "sin_values=np.sin(angles)\n",
    "cos_values=np.cos(angles)\n",
    "tan_values=np.tan(angles)\n",
    "print(sin_values)\n",
    "print(cos_values)\n",
    "print(tan_values)"
   ]
  },
  {
   "cell_type": "code",
   "execution_count": 60,
   "id": "63d9fae6-6e7c-47c6-a6d0-6557517c9843",
   "metadata": {},
   "outputs": [
    {
     "name": "stdout",
     "output_type": "stream",
     "text": [
      "[[0.37514902 0.38947856]\n",
      " [0.44213244 0.61125726]]\n"
     ]
    }
   ],
   "source": [
    "print(np.random.rand(2,2))"
   ]
  },
  {
   "cell_type": "code",
   "execution_count": 61,
   "id": "33f89f49-8124-4ca5-8d10-d43186a8b5c3",
   "metadata": {},
   "outputs": [
    {
     "name": "stdout",
     "output_type": "stream",
     "text": [
      "[[ 0.23761205 -1.95122119]\n",
      " [-0.88411404  0.66149993]]\n"
     ]
    }
   ],
   "source": [
    "print(np.random.randn(2,2))"
   ]
  },
  {
   "cell_type": "code",
   "execution_count": 69,
   "id": "a210cc1a-6f05-42ff-b277-04ae4edaba31",
   "metadata": {},
   "outputs": [
    {
     "name": "stdout",
     "output_type": "stream",
     "text": [
      "[[63 92 11]\n",
      " [52 72 26]\n",
      " [ 4 40 39]]\n"
     ]
    }
   ],
   "source": [
    "print(np.random.randint(1,100,size=(3,3)))"
   ]
  },
  {
   "cell_type": "code",
   "execution_count": null,
   "id": "f218fc83-4a07-4410-9ef7-bd13fdda5e4b",
   "metadata": {},
   "outputs": [],
   "source": []
  },
  {
   "cell_type": "code",
   "execution_count": null,
   "id": "492f3ac1-7f3b-4aaa-a38a-41d6100ba904",
   "metadata": {},
   "outputs": [],
   "source": []
  }
 ],
 "metadata": {
  "kernelspec": {
   "display_name": "Python 3 (ipykernel)",
   "language": "python",
   "name": "python3"
  },
  "language_info": {
   "codemirror_mode": {
    "name": "ipython",
    "version": 3
   },
   "file_extension": ".py",
   "mimetype": "text/x-python",
   "name": "python",
   "nbconvert_exporter": "python",
   "pygments_lexer": "ipython3",
   "version": "3.12.7"
  }
 },
 "nbformat": 4,
 "nbformat_minor": 5
}
